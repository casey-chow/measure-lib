{
 "cells": [
  {
   "cell_type": "markdown",
   "metadata": {},
   "source": [
    "## Interference Testing"
   ]
  },
  {
   "cell_type": "code",
   "execution_count": 2,
   "metadata": {},
   "outputs": [],
   "source": [
    "%matplotlib inline\n",
    "\n",
    "import numpy as np\n",
    "import RPi.GPIO as GPIO\n",
    "from ring_buffer import RingBuffer\n",
    "import matplotlib.pyplot as plt\n",
    "import pickle\n",
    "\n",
    "from ultrasonic_sensor import UltrasonicSensor"
   ]
  },
  {
   "cell_type": "code",
   "execution_count": 3,
   "metadata": {},
   "outputs": [
    {
     "name": "stderr",
     "output_type": "stream",
     "text": [
      "/usr/local/lib/python3.4/dist-packages/ipykernel_launcher.py:1: RuntimeWarning: No channels have been set up yet - nothing to clean up!  Try cleaning up at the end of your program instead!\n",
      "  \"\"\"Entry point for launching an IPython kernel.\n"
     ]
    },
    {
     "ename": "RuntimeError",
     "evalue": "Please set pin numbering mode using GPIO.setmode(GPIO.BOARD) or GPIO.setmode(GPIO.BCM)",
     "output_type": "error",
     "traceback": [
      "\u001b[0;31m---------------------------------------------------------------------------\u001b[0m",
      "\u001b[0;31mRuntimeError\u001b[0m                              Traceback (most recent call last)",
      "\u001b[0;32m<ipython-input-3-62d4e7ed1072>\u001b[0m in \u001b[0;36m<module>\u001b[0;34m()\u001b[0m\n\u001b[1;32m      1\u001b[0m \u001b[0mGPIO\u001b[0m\u001b[0;34m.\u001b[0m\u001b[0mcleanup\u001b[0m\u001b[0;34m(\u001b[0m\u001b[0;34m)\u001b[0m\u001b[0;34m\u001b[0m\u001b[0m\n\u001b[0;32m----> 2\u001b[0;31m \u001b[0mGPIO\u001b[0m\u001b[0;34m.\u001b[0m\u001b[0msetup\u001b[0m\u001b[0;34m(\u001b[0m\u001b[0;36m4\u001b[0m\u001b[0;34m,\u001b[0m \u001b[0mGPIO\u001b[0m\u001b[0;34m.\u001b[0m\u001b[0mOUT\u001b[0m\u001b[0;34m)\u001b[0m\u001b[0;34m\u001b[0m\u001b[0m\n\u001b[0m\u001b[1;32m      3\u001b[0m \u001b[0mGPIO\u001b[0m\u001b[0;34m.\u001b[0m\u001b[0msetup\u001b[0m\u001b[0;34m(\u001b[0m\u001b[0;36m17\u001b[0m\u001b[0;34m,\u001b[0m \u001b[0mGPIO\u001b[0m\u001b[0;34m.\u001b[0m\u001b[0mIN\u001b[0m\u001b[0;34m)\u001b[0m\u001b[0;34m\u001b[0m\u001b[0m\n\u001b[1;32m      4\u001b[0m \u001b[0mGPIO\u001b[0m\u001b[0;34m.\u001b[0m\u001b[0msetup\u001b[0m\u001b[0;34m(\u001b[0m\u001b[0;36m19\u001b[0m\u001b[0;34m,\u001b[0m \u001b[0mGPIO\u001b[0m\u001b[0;34m.\u001b[0m\u001b[0mIN\u001b[0m\u001b[0;34m)\u001b[0m\u001b[0;34m\u001b[0m\u001b[0m\n",
      "\u001b[0;31mRuntimeError\u001b[0m: Please set pin numbering mode using GPIO.setmode(GPIO.BOARD) or GPIO.setmode(GPIO.BCM)"
     ]
    }
   ],
   "source": [
    "GPIO.cleanup()\n",
    "GPIO.setup(4, GPIO.OUT)\n",
    "GPIO.setup(17, GPIO.IN)\n",
    "GPIO.setup(19, GPIO.IN)"
   ]
  },
  {
   "cell_type": "markdown",
   "metadata": {},
   "source": [
    "# Collect Measurements"
   ]
  },
  {
   "cell_type": "code",
   "execution_count": null,
   "metadata": {},
   "outputs": [],
   "source": [
    "import time\n",
    "# intial parameters\n",
    "n_iter = 1000\n",
    "\n",
    "\n",
    "def measure():\n",
    "    d1 = sensor1.distance()\n",
    "    d2 = sensor2.distance()\n",
    "    return d1, d2\n",
    "\n",
    "sz = (n_iter,) # size of array\n",
    "x = 35\n",
    "zz = [measure() for _ in range(n_iter)]"
   ]
  },
  {
   "cell_type": "code",
   "execution_count": null,
   "metadata": {},
   "outputs": [],
   "source": [
    "zz"
   ]
  },
  {
   "cell_type": "code",
   "execution_count": null,
   "metadata": {},
   "outputs": [],
   "source": [
    "z1, z2 = list(zip(*zz))\n",
    "plt.rcParams['figure.figsize'] = (15, 10)\n",
    "plt.figure()\n",
    "plt.plot(z1[50:],'r+',label='sensor 1')\n",
    "plt.plot(z2[50:],'b+',label='sensor 2')\n",
    "\n",
    "plt.xlabel('iteration')\n",
    "plt.ylabel('distance')\n",
    "plt.gca().set_ylim([0, 100])"
   ]
  },
  {
   "cell_type": "markdown",
   "metadata": {},
   "source": [
    "# Run Filters"
   ]
  },
  {
   "cell_type": "code",
   "execution_count": null,
   "metadata": {},
   "outputs": [],
   "source": [
    "start = 60\n",
    "median_sample_size = 30\n",
    "\n",
    "history1 = RingBuffer(capacity=median_sample_size, dtype=np.float)\n",
    "history2 = RingBuffer(capacity=median_sample_size, dtype=np.float)\n",
    "median1 = []\n",
    "median2 = []\n",
    "for z in z1:\n",
    "    history1.append(z)\n",
    "    med = np.median(history1)\n",
    "    if med > start:\n",
    "        med = start - (med - start)\n",
    "    median1.append(med)\n",
    "for z in z2:\n",
    "    history2.append(z)\n",
    "    med = np.median(history2)\n",
    "    if med > start:\n",
    "        med = start - (med - start)\n",
    "    median2.append(med)"
   ]
  },
  {
   "cell_type": "code",
   "execution_count": null,
   "metadata": {},
   "outputs": [],
   "source": [
    "plt.rcParams['figure.figsize'] = (15, 10)\n",
    "plt.figure()\n",
    "plt.plot(z1[50:],'r+',label='sensor 1')\n",
    "# plt.plot(z2[50:],'b+',label='sensor 2')\n",
    "plt.plot(median1[50:], 'r-', label='median 1')\n",
    "# plt.plot(median2[50:], 'b-', label='median 2')\n",
    "plt.legend()\n",
    "plt.gca().set_ylim([0, 100])\n",
    "plt.xlabel('iteration')\n",
    "plt.ylabel('distance')"
   ]
  },
  {
   "cell_type": "code",
   "execution_count": 35,
   "metadata": {},
   "outputs": [],
   "source": [
    "with open('two_sensors.pkl', 'wb') as f:\n",
    "    pickle.dump(zz, f)"
   ]
  },
  {
   "cell_type": "code",
   "execution_count": 36,
   "metadata": {},
   "outputs": [],
   "source": [
    "GPIO.cleanup()"
   ]
  },
  {
   "cell_type": "code",
   "execution_count": null,
   "metadata": {},
   "outputs": [],
   "source": []
  }
 ],
 "metadata": {
  "kernelspec": {
   "display_name": "Python 3",
   "language": "python",
   "name": "python3"
  },
  "language_info": {
   "codemirror_mode": {
    "name": "ipython",
    "version": 3
   },
   "file_extension": ".py",
   "mimetype": "text/x-python",
   "name": "python",
   "nbconvert_exporter": "python",
   "pygments_lexer": "ipython3",
   "version": "3.4.2"
  }
 },
 "nbformat": 4,
 "nbformat_minor": 2
}
